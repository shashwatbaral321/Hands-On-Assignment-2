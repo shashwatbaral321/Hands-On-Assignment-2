{
  "nbformat": 4,
  "nbformat_minor": 0,
  "metadata": {
    "colab": {
      "provenance": []
    },
    "kernelspec": {
      "name": "python3",
      "display_name": "Python 3"
    },
    "language_info": {
      "name": "python"
    }
  },
  "cells": [
    {
      "cell_type": "code",
      "execution_count": 13,
      "metadata": {
        "id": "_hPmEhxVI5ka",
        "colab": {
          "base_uri": "https://localhost:8080/"
        },
        "outputId": "de292466-b530-48b9-d899-e40635caac4e"
      },
      "outputs": [
        {
          "output_type": "stream",
          "name": "stdout",
          "text": [
            "Requirement already satisfied: qrcode[pil] in /usr/local/lib/python3.12/dist-packages (8.2)\n",
            "Requirement already satisfied: pillow>=9.1.0 in /usr/local/lib/python3.12/dist-packages (from qrcode[pil]) (11.3.0)\n"
          ]
        }
      ],
      "source": [
        "!pip install qrcode[pil]\n"
      ]
    },
    {
      "cell_type": "code",
      "source": [
        "import qrcode\n",
        "from PIL import Image\n",
        "from IPython.display import display"
      ],
      "metadata": {
        "id": "RWEf--DAJsd8"
      },
      "execution_count": 15,
      "outputs": []
    },
    {
      "cell_type": "code",
      "source": [
        "def generate_qr(url, filename=\"qrcode.png\"):\n",
        "\n",
        "    # Create QR code object\n",
        "    qr = qrcode.QRCode(\n",
        "        version=1,\n",
        "        error_correction=qrcode.constants.ERROR_CORRECT_H,\n",
        "        box_size=10,\n",
        "        border=4\n",
        "    )\n",
        "\n",
        "    qr.add_data(url)\n",
        "    qr.make(fit=True)\n",
        "\n",
        "    # Generate the QR code image\n",
        "    img = qr.make_image(fill_color=\"black\", back_color=\"white\")\n",
        "\n",
        "    # Save the image\n",
        "    img.save(filename)\n",
        "\n",
        "    # Display inline in Colab\n",
        "    display(img)\n",
        "\n",
        "    return img\n"
      ],
      "metadata": {
        "id": "qX-ltH2GJ5tk"
      },
      "execution_count": 16,
      "outputs": []
    },
    {
      "cell_type": "code",
      "source": [
        "# Ask user for URL input\n",
        "url_input = input(\"Enter the URL to generate QR code: \")\n",
        "\n",
        "# Generate and display QR code\n",
        "qr_image = generate_qr(url_input)\n"
      ],
      "metadata": {
        "id": "jPJraUb6KAFB",
        "colab": {
          "base_uri": "https://localhost:8080/",
          "height": 365
        },
        "outputId": "2caf925d-42c6-4b39-e77f-bea525b5197c"
      },
      "execution_count": 17,
      "outputs": [
        {
          "name": "stdout",
          "output_type": "stream",
          "text": [
            "Enter the URL to generate QR code: www.google.com\n"
          ]
        },
        {
          "output_type": "display_data",
          "data": {
            "text/plain": [
              "<qrcode.image.pil.PilImage at 0x7ae46a86fb00>"
            ],
            "image/png": "[encoded data removed]",
            "image/jpeg": "[encoded data removed]"
          },
          "metadata": {}
        }
      ]
    }
  ]
}